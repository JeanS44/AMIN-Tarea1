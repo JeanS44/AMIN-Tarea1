{
 "cells": [
  {
   "cell_type": "code",
   "execution_count": 133,
   "metadata": {},
   "outputs": [],
   "source": [
    "import random\n",
    "import math\n",
    "from collections import Counter"
   ]
  },
  {
   "cell_type": "markdown",
   "metadata": {},
   "source": [
    "Generamos el tamaño del tablero mediante una función randómica, que será asignado en la variable 'tamanoTablero'."
   ]
  },
  {
   "cell_type": "code",
   "execution_count": 134,
   "metadata": {},
   "outputs": [
    {
     "data": {
      "text/plain": [
       "8"
      ]
     },
     "execution_count": 134,
     "metadata": {},
     "output_type": "execute_result"
    }
   ],
   "source": [
    "tamanoTablero = random.randint(8,8)\n",
    "tamanoTablero"
   ]
  },
  {
   "cell_type": "markdown",
   "metadata": {},
   "source": [
    "Generamos la cantidad de individuos"
   ]
  },
  {
   "cell_type": "code",
   "execution_count": 135,
   "metadata": {},
   "outputs": [
    {
     "data": {
      "text/plain": [
       "5"
      ]
     },
     "execution_count": 135,
     "metadata": {},
     "output_type": "execute_result"
    }
   ],
   "source": [
    "tamanoIndividuos = random.randint(4,8)\n",
    "tamanoIndividuos"
   ]
  },
  {
   "cell_type": "markdown",
   "metadata": {},
   "source": [
    "Inicializamos un arreglo que contendrá la población inicial de las reinas, en las que se asignará valores randómicos entre 1 y el tamaño de la población."
   ]
  },
  {
   "cell_type": "code",
   "execution_count": 136,
   "metadata": {},
   "outputs": [],
   "source": [
    "initIndividuos = []\n",
    "initPoblacion = []\n",
    "def inicializarPoblacion(tamanoTablero, tamanoIndividuos):    \n",
    "    for i in range(0, tamanoIndividuos):\n",
    "        initPoblacion.append([])\n",
    "        for j in range(tamanoTablero):\n",
    "            initPoblacion[i].append(random.randint(1, tamanoTablero))\n",
    "    return initPoblacion"
   ]
  },
  {
   "cell_type": "code",
   "execution_count": 137,
   "metadata": {},
   "outputs": [
    {
     "data": {
      "text/plain": [
       "[[5, 8, 6, 1, 2, 6, 2, 8], [8, 4, 7, 6, 2, 2, 7, 4]]"
      ]
     },
     "execution_count": 137,
     "metadata": {},
     "output_type": "execute_result"
    }
   ],
   "source": [
    "inicializarPoblacion(random.randint(8,8), random.randint(2,2))"
   ]
  },
  {
   "cell_type": "markdown",
   "metadata": {},
   "source": [
    "Definimos el mínimo y máximo de ataques. El mínimo será 0 y el máximo es (tamanoTablero)*(tamanoTablero-1)/2."
   ]
  },
  {
   "cell_type": "code",
   "execution_count": 138,
   "metadata": {},
   "outputs": [
    {
     "name": "stdout",
     "output_type": "stream",
     "text": [
      "28\n"
     ]
    }
   ],
   "source": [
    "minimoAtaques = 0\n",
    "maximoAtaques = math.ceil(tamanoTablero*(tamanoTablero-1)/2)\n",
    "print(maximoAtaques)"
   ]
  },
  {
   "cell_type": "code",
   "execution_count": 139,
   "metadata": {},
   "outputs": [
    {
     "name": "stdout",
     "output_type": "stream",
     "text": [
      "Los valores que se repiten en el arreglo 0 son: {5: 1, 8: 2, 6: 2, 1: 1, 2: 2}\n",
      "Los valores que se repiten en el arreglo 1 son: {5: 1, 8: 3, 6: 3, 1: 1, 2: 4, 4: 2, 7: 2}\n"
     ]
    }
   ],
   "source": [
    "repetidos = {}\n",
    "for i in range(len(initPoblacion)):\n",
    "    for j in initPoblacion[i]:\n",
    "        if j in repetidos:\n",
    "            repetidos[j] += 1\n",
    "        else:\n",
    "            repetidos[j] = 1\n",
    "    print(\"Los valores que se repiten en el arreglo\", i, \"son:\", repetidos)\n"
   ]
  },
  {
   "cell_type": "code",
   "execution_count": 140,
   "metadata": {},
   "outputs": [
    {
     "name": "stdout",
     "output_type": "stream",
     "text": [
      "Los valores que se repiten en el arreglo 0 son: Counter({8: 2, 6: 2, 2: 2, 5: 1, 1: 1})\n",
      "Los valores que se repiten en el arreglo 1 son: Counter({4: 2, 7: 2, 2: 2, 8: 1, 6: 1})\n"
     ]
    }
   ],
   "source": [
    "for i in range(len(initPoblacion)):\n",
    "    contador = Counter(initPoblacion[i])\n",
    "    print(\"Los valores que se repiten en el arreglo\", i, \"son:\", contador)"
   ]
  }
 ],
 "metadata": {
  "kernelspec": {
   "display_name": "Python 3.10.0 64-bit",
   "language": "python",
   "name": "python3"
  },
  "language_info": {
   "codemirror_mode": {
    "name": "ipython",
    "version": 3
   },
   "file_extension": ".py",
   "mimetype": "text/x-python",
   "name": "python",
   "nbconvert_exporter": "python",
   "pygments_lexer": "ipython3",
   "version": "3.10.0"
  },
  "orig_nbformat": 4,
  "vscode": {
   "interpreter": {
    "hash": "31859b413185ca7000c2fee082c0715ca78433b184fc2466981b197da693d3e7"
   }
  }
 },
 "nbformat": 4,
 "nbformat_minor": 2
}
