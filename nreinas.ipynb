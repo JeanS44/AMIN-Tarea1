{
 "cells": [
  {
   "cell_type": "code",
   "execution_count": 10,
   "metadata": {},
   "outputs": [],
   "source": [
    "import random\n",
    "import math\n",
    "from collections import Counter"
   ]
  },
  {
   "cell_type": "markdown",
   "metadata": {},
   "source": [
    "Generamos el tamaño del tablero mediante una función randómica, que será asignado en la variable 'tamanoTablero'."
   ]
  },
  {
   "cell_type": "code",
   "execution_count": 11,
   "metadata": {},
   "outputs": [
    {
     "data": {
      "text/plain": [
       "8"
      ]
     },
     "execution_count": 11,
     "metadata": {},
     "output_type": "execute_result"
    }
   ],
   "source": [
    "tamanoTablero = random.randint(8,8)\n",
    "tamanoTablero"
   ]
  },
  {
   "cell_type": "markdown",
   "metadata": {},
   "source": [
    "Generamos la cantidad de individuos"
   ]
  },
  {
   "cell_type": "code",
   "execution_count": 12,
   "metadata": {},
   "outputs": [
    {
     "data": {
      "text/plain": [
       "4"
      ]
     },
     "execution_count": 12,
     "metadata": {},
     "output_type": "execute_result"
    }
   ],
   "source": [
    "tamanoIndividuos = random.randint(4,8)\n",
    "tamanoIndividuos"
   ]
  },
  {
   "cell_type": "markdown",
   "metadata": {},
   "source": [
    "Inicializamos un arreglo que contendrá la población inicial de las reinas, en las que se asignará valores randómicos entre 1 y el tamaño de la población."
   ]
  },
  {
   "cell_type": "code",
   "execution_count": 13,
   "metadata": {},
   "outputs": [],
   "source": [
    "initIndividuos = []\n",
    "initPoblacion = []\n",
    "def inicializarPoblacion(tamanoTablero, tamanoIndividuos):    \n",
    "    for i in range(0, tamanoIndividuos):\n",
    "        initPoblacion.append([])\n",
    "        for j in range(tamanoTablero):\n",
    "            initPoblacion[i].append(random.randint(1, tamanoTablero))\n",
    "    return initPoblacion"
   ]
  },
  {
   "cell_type": "markdown",
   "metadata": {},
   "source": [
    "Definimos el mínimo y máximo de ataques. El mínimo será 0 y el máximo es (tamanoTablero)*(tamanoTablero-1)/2."
   ]
  },
  {
   "cell_type": "code",
   "execution_count": 14,
   "metadata": {},
   "outputs": [
    {
     "name": "stdout",
     "output_type": "stream",
     "text": [
      "28\n"
     ]
    }
   ],
   "source": [
    "minimoAtaques = 0\n",
    "maximoAtaques = math.ceil(tamanoTablero*(tamanoTablero-1)/2)\n",
    "print(maximoAtaques)"
   ]
  },
  {
   "cell_type": "code",
   "execution_count": 15,
   "metadata": {},
   "outputs": [],
   "source": [
    "def calcularFitness():\n",
    "    aux = []\n",
    "    for i in range(0, len(initPoblacion)):\n",
    "        contador = Counter(initPoblacion[i])\n",
    "        values_array = list(contador.values())\n",
    "        print(\"Array numero\", i, values_array)\n",
    "        aux.append(values_array)\n",
    "    print(\"\")\n",
    "    print(\"Este es aux\", aux)\n",
    "    print(\"\")\n",
    "    for i in range(len(aux)):\n",
    "        print(\"Esta es la lista\", i, aux[i])\n",
    "        aux[i] = list(filter((1).__ne__, aux[i]))\n",
    "        aux[i] = sum(aux[i])\n",
    "    print(\"\")\n",
    "    print(\"La auxiliar es:\", aux)\n",
    "    print(\"\")\n",
    "    suma_total_array = sum(aux)\n",
    "    print(suma_total_array)\n",
    "    print(\"\")\n",
    "    for i in range(len(aux)):\n",
    "        aux[i] /= suma_total_array\n",
    "        aux[i] = round(aux[i],2)\n",
    "    print(\"La auxiliar modificada es:\", aux)"
   ]
  },
  {
   "cell_type": "code",
   "execution_count": 16,
   "metadata": {},
   "outputs": [
    {
     "data": {
      "text/plain": [
       "[[1, 3, 2, 2, 4],\n",
       " [5, 3, 1, 1, 2],\n",
       " [2, 2, 4, 3, 3],\n",
       " [1, 5, 5, 5, 5],\n",
       " [4, 5, 3, 2, 1],\n",
       " [2, 2, 3, 4, 4],\n",
       " [3, 3, 4, 2, 1],\n",
       " [5, 4, 2, 2, 1],\n",
       " [5, 3, 2, 3, 3],\n",
       " [4, 3, 5, 5, 3]]"
      ]
     },
     "execution_count": 16,
     "metadata": {},
     "output_type": "execute_result"
    }
   ],
   "source": [
    "inicializarPoblacion(random.randint(5,8), random.randint(10,10))"
   ]
  },
  {
   "cell_type": "code",
   "execution_count": 17,
   "metadata": {},
   "outputs": [
    {
     "name": "stdout",
     "output_type": "stream",
     "text": [
      "Array numero 0 [1, 1, 2, 1]\n",
      "Array numero 1 [1, 1, 2, 1]\n",
      "Array numero 2 [2, 1, 2]\n",
      "Array numero 3 [1, 4]\n",
      "Array numero 4 [1, 1, 1, 1, 1]\n",
      "Array numero 5 [2, 1, 2]\n",
      "Array numero 6 [2, 1, 1, 1]\n",
      "Array numero 7 [1, 1, 2, 1]\n",
      "Array numero 8 [1, 3, 1]\n",
      "Array numero 9 [1, 2, 2]\n",
      "\n",
      "Este es aux [[1, 1, 2, 1], [1, 1, 2, 1], [2, 1, 2], [1, 4], [1, 1, 1, 1, 1], [2, 1, 2], [2, 1, 1, 1], [1, 1, 2, 1], [1, 3, 1], [1, 2, 2]]\n",
      "\n",
      "Esta es la lista 0 [1, 1, 2, 1]\n",
      "Esta es la lista 1 [1, 1, 2, 1]\n",
      "Esta es la lista 2 [2, 1, 2]\n",
      "Esta es la lista 3 [1, 4]\n",
      "Esta es la lista 4 [1, 1, 1, 1, 1]\n",
      "Esta es la lista 5 [2, 1, 2]\n",
      "Esta es la lista 6 [2, 1, 1, 1]\n",
      "Esta es la lista 7 [1, 1, 2, 1]\n",
      "Esta es la lista 8 [1, 3, 1]\n",
      "Esta es la lista 9 [1, 2, 2]\n",
      "\n",
      "La auxiliar es: [2, 2, 4, 4, 0, 4, 2, 2, 3, 4]\n",
      "\n",
      "27\n",
      "\n",
      "La auxiliar modificada es: [0.07, 0.07, 0.15, 0.15, 0.0, 0.15, 0.07, 0.07, 0.11, 0.15]\n"
     ]
    }
   ],
   "source": [
    "calcularFitness()"
   ]
  }
 ],
 "metadata": {
  "kernelspec": {
   "display_name": "Python 3.10.0 64-bit",
   "language": "python",
   "name": "python3"
  },
  "language_info": {
   "codemirror_mode": {
    "name": "ipython",
    "version": 3
   },
   "file_extension": ".py",
   "mimetype": "text/x-python",
   "name": "python",
   "nbconvert_exporter": "python",
   "pygments_lexer": "ipython3",
   "version": "3.10.0"
  },
  "orig_nbformat": 4,
  "vscode": {
   "interpreter": {
    "hash": "31859b413185ca7000c2fee082c0715ca78433b184fc2466981b197da693d3e7"
   }
  }
 },
 "nbformat": 4,
 "nbformat_minor": 2
}
