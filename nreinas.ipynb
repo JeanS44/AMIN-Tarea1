{
 "cells": [
  {
   "cell_type": "code",
   "execution_count": 218,
   "metadata": {},
   "outputs": [],
   "source": [
    "import random\n",
    "import math"
   ]
  },
  {
   "cell_type": "markdown",
   "metadata": {},
   "source": [
    "Generamos el tamaño del tablero mediante una función randómica, que será asignado en la variable 'tamanoTablero'."
   ]
  },
  {
   "cell_type": "code",
   "execution_count": 219,
   "metadata": {},
   "outputs": [
    {
     "data": {
      "text/plain": [
       "8"
      ]
     },
     "execution_count": 219,
     "metadata": {},
     "output_type": "execute_result"
    }
   ],
   "source": [
    "tamanoTablero = random.randint(8,8)\n",
    "tamanoTablero"
   ]
  },
  {
   "cell_type": "markdown",
   "metadata": {},
   "source": [
    "Generamos la cantidad de individuos"
   ]
  },
  {
   "cell_type": "code",
   "execution_count": 220,
   "metadata": {},
   "outputs": [
    {
     "data": {
      "text/plain": [
       "7"
      ]
     },
     "execution_count": 220,
     "metadata": {},
     "output_type": "execute_result"
    }
   ],
   "source": [
    "tamanoIndividuos = random.randint(4,8)\n",
    "tamanoIndividuos"
   ]
  },
  {
   "cell_type": "markdown",
   "metadata": {},
   "source": [
    "Inicializamos un arreglo que contendrá la población inicial de las reinas, en las que se asignará valores randómicos entre 1 y el tamaño de la población."
   ]
  },
  {
   "cell_type": "code",
   "execution_count": 221,
   "metadata": {},
   "outputs": [],
   "source": [
    "def inicializarPoblacion(tamanoTablero, tamanoIndividuos):\n",
    "    initIndividuos = []\n",
    "    initPoblacion = []\n",
    "    for i in range(0, tamanoIndividuos):\n",
    "        initPoblacion.append([])\n",
    "        for j in range(tamanoTablero):\n",
    "            initPoblacion[i].append(random.randint(1, tamanoTablero))\n",
    "    return initPoblacion"
   ]
  },
  {
   "cell_type": "code",
   "execution_count": 222,
   "metadata": {},
   "outputs": [
    {
     "data": {
      "text/plain": [
       "[[7, 4, 2, 3, 3, 2, 4, 2],\n",
       " [1, 5, 4, 3, 1, 2, 8, 6],\n",
       " [8, 4, 2, 7, 5, 1, 8, 2],\n",
       " [2, 4, 1, 2, 3, 8, 3, 6],\n",
       " [4, 8, 5, 2, 5, 6, 4, 5],\n",
       " [8, 3, 1, 6, 4, 3, 3, 6],\n",
       " [4, 5, 1, 3, 6, 1, 8, 3],\n",
       " [6, 6, 2, 6, 4, 7, 8, 2]]"
      ]
     },
     "execution_count": 222,
     "metadata": {},
     "output_type": "execute_result"
    }
   ],
   "source": [
    "inicializarPoblacion(random.randint(8,8), random.randint(4,8))"
   ]
  },
  {
   "cell_type": "markdown",
   "metadata": {},
   "source": [
    "Definimos el mínimo y máximo de ataques. El mínimo será 0 y el máximo es (tamanoTablero)*(tamanoTablero-1)/2."
   ]
  },
  {
   "cell_type": "code",
   "execution_count": 223,
   "metadata": {},
   "outputs": [
    {
     "name": "stdout",
     "output_type": "stream",
     "text": [
      "28\n"
     ]
    }
   ],
   "source": [
    "minimoAtaques = 0\n",
    "maximoAtaques = math.ceil(tamanoTablero*(tamanoTablero-1)/2)\n",
    "print(maximoAtaques)"
   ]
  }
 ],
 "metadata": {
  "kernelspec": {
   "display_name": "Python 3.10.0 64-bit",
   "language": "python",
   "name": "python3"
  },
  "language_info": {
   "codemirror_mode": {
    "name": "ipython",
    "version": 3
   },
   "file_extension": ".py",
   "mimetype": "text/x-python",
   "name": "python",
   "nbconvert_exporter": "python",
   "pygments_lexer": "ipython3",
   "version": "3.10.0"
  },
  "orig_nbformat": 4,
  "vscode": {
   "interpreter": {
    "hash": "31859b413185ca7000c2fee082c0715ca78433b184fc2466981b197da693d3e7"
   }
  }
 },
 "nbformat": 4,
 "nbformat_minor": 2
}
